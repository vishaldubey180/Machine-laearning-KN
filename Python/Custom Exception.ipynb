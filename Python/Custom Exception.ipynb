{
 "cells": [
  {
   "cell_type": "markdown",
   "metadata": {},
   "source": [
    "# Custom Exception"
   ]
  },
  {
   "cell_type": "code",
   "execution_count": 1,
   "metadata": {},
   "outputs": [],
   "source": [
    "class Error(Exception):\n",
    "    pass\n",
    "\n",
    "class dobException(Error):\n",
    "    pass"
   ]
  },
  {
   "cell_type": "code",
   "execution_count": 2,
   "metadata": {},
   "outputs": [
    {
     "name": "stdout",
     "output_type": "stream",
     "text": [
      "enter your date of birth year1997\n"
     ]
    }
   ],
   "source": [
    "year = int(input('enter your date of birth year'))\n",
    "age = 2021-year\n",
    "\n",
    "try:\n",
    "    if age<=30 & age>20:\n",
    "        pass\n",
    "    else:\n",
    "        raise dobException\n",
    "except dobException:\n",
    "    print('this year is not valid , user must be between 20 - 30 years old')\n",
    "    "
   ]
  },
  {
   "cell_type": "code",
   "execution_count": 3,
   "metadata": {},
   "outputs": [
    {
     "name": "stdout",
     "output_type": "stream",
     "text": [
      "enter your date of birth year1988\n",
      "this year is not valid , user must be between 20 - 30 years old\n"
     ]
    }
   ],
   "source": [
    "year = int(input('enter your date of birth year'))\n",
    "age = 2021-year\n",
    "\n",
    "try:\n",
    "    if age<=30 & age>20:\n",
    "        pass\n",
    "    else:\n",
    "        raise dobException\n",
    "except dobException:\n",
    "    print('this year is not valid , user must be between 20 - 30 years old')\n",
    "    "
   ]
  },
  {
   "cell_type": "code",
   "execution_count": 4,
   "metadata": {},
   "outputs": [
    {
     "name": "stdout",
     "output_type": "stream",
     "text": [
      "enter your date of birth year1995\n",
      "your age is valid you can apply for the exam\n"
     ]
    }
   ],
   "source": [
    "year = int(input('enter your date of birth year'))\n",
    "age = 2021-year\n",
    "\n",
    "try:\n",
    "    if age<=30 & age>20:\n",
    "        print(\"your age is valid you can apply for the exam\")\n",
    "    else:\n",
    "        raise dobException\n",
    "except dobException:\n",
    "    print('this year is not valid , user must be between 20 - 30 years old')"
   ]
  },
  {
   "cell_type": "code",
   "execution_count": 5,
   "metadata": {},
   "outputs": [
    {
     "name": "stdout",
     "output_type": "stream",
     "text": [
      "enter your date of birth year2010\n",
      "this year is not valid , user must be between 20 - 30 years old\n"
     ]
    }
   ],
   "source": [
    "year = int(input('enter your date of birth year'))\n",
    "age = 2021-year\n",
    "\n",
    "try:\n",
    "    if age<=30 & age>20:\n",
    "        print(\"your age is valid you can apply for the exam\")\n",
    "    else:\n",
    "        raise dobException\n",
    "except dobException:\n",
    "    print('this year is not valid , user must be between 20 - 30 years old')"
   ]
  },
  {
   "cell_type": "code",
   "execution_count": null,
   "metadata": {},
   "outputs": [],
   "source": []
  }
 ],
 "metadata": {
  "kernelspec": {
   "display_name": "Python 3",
   "language": "python",
   "name": "python3"
  },
  "language_info": {
   "codemirror_mode": {
    "name": "ipython",
    "version": 3
   },
   "file_extension": ".py",
   "mimetype": "text/x-python",
   "name": "python",
   "nbconvert_exporter": "python",
   "pygments_lexer": "ipython3",
   "version": "3.7.4"
  }
 },
 "nbformat": 4,
 "nbformat_minor": 2
}
