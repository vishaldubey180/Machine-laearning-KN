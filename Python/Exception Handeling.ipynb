{
 "cells": [
  {
   "cell_type": "markdown",
   "metadata": {},
   "source": [
    "## Exception handeling"
   ]
  },
  {
   "cell_type": "code",
   "execution_count": 1,
   "metadata": {},
   "outputs": [],
   "source": [
    "# difference between error and exception"
   ]
  },
  {
   "cell_type": "markdown",
   "metadata": {},
   "source": [
    "####   Errors can't be handled whereas Exception can be handled during run time!"
   ]
  },
  {
   "cell_type": "markdown",
   "metadata": {},
   "source": [
    "##### Errors could be identified & corrected during compile time; whereas Exceptions can be only identified during run time and can be handled with try catch"
   ]
  },
  {
   "cell_type": "markdown",
   "metadata": {},
   "source": [
    "Errors can be corrected during compilation of source code or even at runtime. It can syntax error or semantic error. Exceptions are caused during run time when the interpreter gets some unexpected data. They are handled using try and except technique."
   ]
  },
  {
   "cell_type": "code",
   "execution_count": 2,
   "metadata": {},
   "outputs": [],
   "source": [
    "b = 20"
   ]
  },
  {
   "cell_type": "code",
   "execution_count": 3,
   "metadata": {},
   "outputs": [],
   "source": [
    "# here it is executing successfully not giving any error"
   ]
  },
  {
   "cell_type": "code",
   "execution_count": 4,
   "metadata": {},
   "outputs": [
    {
     "ename": "NameError",
     "evalue": "name 'c' is not defined",
     "output_type": "error",
     "traceback": [
      "\u001b[1;31m---------------------------------------------------------------------------\u001b[0m",
      "\u001b[1;31mNameError\u001b[0m                                 Traceback (most recent call last)",
      "\u001b[1;32m<ipython-input-4-4eb4f03d5d03>\u001b[0m in \u001b[0;36m<module>\u001b[1;34m\u001b[0m\n\u001b[1;32m----> 1\u001b[1;33m \u001b[0mb\u001b[0m\u001b[1;33m=\u001b[0m\u001b[0mc\u001b[0m\u001b[1;33m\u001b[0m\u001b[1;33m\u001b[0m\u001b[0m\n\u001b[0m",
      "\u001b[1;31mNameError\u001b[0m: name 'c' is not defined"
     ]
    }
   ],
   "source": [
    "b=c"
   ]
  },
  {
   "cell_type": "code",
   "execution_count": 5,
   "metadata": {},
   "outputs": [],
   "source": [
    "# now we are getting error"
   ]
  },
  {
   "cell_type": "code",
   "execution_count": 6,
   "metadata": {},
   "outputs": [],
   "source": [
    "# whenever we get this type of error we can not show this error to frontend user"
   ]
  },
  {
   "cell_type": "code",
   "execution_count": 7,
   "metadata": {},
   "outputs": [],
   "source": [
    "# we should handel to this type of problem "
   ]
  },
  {
   "cell_type": "code",
   "execution_count": 8,
   "metadata": {},
   "outputs": [
    {
     "name": "stdout",
     "output_type": "stream",
     "text": [
      "problem may have occured please wiat some time\n"
     ]
    }
   ],
   "source": [
    "try:\n",
    "    # it contain code where exception can occur\n",
    "    b=c\n",
    "except:\n",
    "    # in this we handel the exception\n",
    "    print('problem may have occured please wiat some time')"
   ]
  },
  {
   "cell_type": "code",
   "execution_count": 11,
   "metadata": {},
   "outputs": [
    {
     "name": "stdout",
     "output_type": "stream",
     "text": [
      "Please define the variable and then try to execute the code\n"
     ]
    }
   ],
   "source": [
    "try:\n",
    "    # it contain code where exception can occur\n",
    "    b=c\n",
    "except NameError as ex1:\n",
    "    print(\"Please define the variable and then try to execute the code\")\n",
    "except Exception as ex:\n",
    "    # in this we handel the exception\n",
    "    print(ex)"
   ]
  },
  {
   "cell_type": "code",
   "execution_count": 12,
   "metadata": {},
   "outputs": [
    {
     "name": "stdout",
     "output_type": "stream",
     "text": [
      "unsupported operand type(s) for +: 'int' and 'str'\n"
     ]
    }
   ],
   "source": [
    "try:\n",
    "    # it contain code where exception can occur\n",
    "    b=1\n",
    "    c = 'm'\n",
    "    d = b+c\n",
    "except NameError as ex1:\n",
    "    print(\"Please define the variable and then try to execute the code\")\n",
    "except Exception as ex:\n",
    "    # in this we handel the exception\n",
    "    print(ex)"
   ]
  },
  {
   "cell_type": "code",
   "execution_count": 13,
   "metadata": {},
   "outputs": [],
   "source": [
    "# here the above code not gave NameError hence second except executed"
   ]
  },
  {
   "cell_type": "code",
   "execution_count": 14,
   "metadata": {},
   "outputs": [
    {
     "ename": "TypeError",
     "evalue": "unsupported operand type(s) for +: 'int' and 'str'",
     "output_type": "error",
     "traceback": [
      "\u001b[1;31m---------------------------------------------------------------------------\u001b[0m",
      "\u001b[1;31mTypeError\u001b[0m                                 Traceback (most recent call last)",
      "\u001b[1;32m<ipython-input-14-324ad9675bb0>\u001b[0m in \u001b[0;36m<module>\u001b[1;34m\u001b[0m\n\u001b[0;32m      1\u001b[0m \u001b[0mb\u001b[0m\u001b[1;33m=\u001b[0m\u001b[1;36m1\u001b[0m\u001b[1;33m\u001b[0m\u001b[1;33m\u001b[0m\u001b[0m\n\u001b[0;32m      2\u001b[0m \u001b[0mc\u001b[0m \u001b[1;33m=\u001b[0m \u001b[1;34m'm'\u001b[0m\u001b[1;33m\u001b[0m\u001b[1;33m\u001b[0m\u001b[0m\n\u001b[1;32m----> 3\u001b[1;33m \u001b[0md\u001b[0m \u001b[1;33m=\u001b[0m \u001b[0mb\u001b[0m\u001b[1;33m+\u001b[0m\u001b[0mc\u001b[0m\u001b[1;33m\u001b[0m\u001b[1;33m\u001b[0m\u001b[0m\n\u001b[0m",
      "\u001b[1;31mTypeError\u001b[0m: unsupported operand type(s) for +: 'int' and 'str'"
     ]
    }
   ],
   "source": [
    "b=1\n",
    "c = 'm'\n",
    "d = b+c"
   ]
  },
  {
   "cell_type": "code",
   "execution_count": 15,
   "metadata": {},
   "outputs": [],
   "source": [
    "# it is giving type error so we have to handel type error"
   ]
  },
  {
   "cell_type": "code",
   "execution_count": 20,
   "metadata": {},
   "outputs": [
    {
     "name": "stdout",
     "output_type": "stream",
     "text": [
      "string and int can not be concatenated Please try to add int and int or string and string\n"
     ]
    }
   ],
   "source": [
    "try:\n",
    "    # it contain code where exception can occur\n",
    "    b=1\n",
    "    c = 'm'\n",
    "    d = b+c\n",
    "    \n",
    "except NameError:\n",
    "    print(\"Please define the variable and then try to execute the code\")\n",
    "except TypeError:\n",
    "    print(\"string and int can not be concatenated Please try to add int and int or string and string\")\n",
    "except Exception as ex:\n",
    "    print(ex)"
   ]
  },
  {
   "cell_type": "code",
   "execution_count": 21,
   "metadata": {},
   "outputs": [],
   "source": [
    "# so whwenever we execute any code and if it through some exception the it will check the type of error in except block\n",
    "# if it found that error then it will print relevent message \n",
    "# otherwise it will print the error from exception class which we have mention in last line"
   ]
  },
  {
   "cell_type": "code",
   "execution_count": 22,
   "metadata": {},
   "outputs": [
    {
     "name": "stdout",
     "output_type": "stream",
     "text": [
      "enter first number5\n",
      "enter second number0\n",
      "division by zero\n"
     ]
    }
   ],
   "source": [
    "try:\n",
    "    a = int(input('enter first number'))\n",
    "    b = int (input('enter second number'))\n",
    "    c = a+b\n",
    "    d = a-b\n",
    "    e = a/b\n",
    "    \n",
    "except NameError:\n",
    "    print(\"Please define the variable and then try to execute the code\")\n",
    "except TypeError:\n",
    "    print(\"string and int can not be concatenated Please try to add int and int or string and string\")\n",
    "except Exception as ex:\n",
    "    print(ex)"
   ]
  },
  {
   "cell_type": "code",
   "execution_count": 23,
   "metadata": {},
   "outputs": [],
   "source": [
    "# so here it is giving an error as dision by zero "
   ]
  },
  {
   "cell_type": "code",
   "execution_count": 24,
   "metadata": {},
   "outputs": [
    {
     "ename": "ZeroDivisionError",
     "evalue": "division by zero",
     "output_type": "error",
     "traceback": [
      "\u001b[1;31m---------------------------------------------------------------------------\u001b[0m",
      "\u001b[1;31mZeroDivisionError\u001b[0m                         Traceback (most recent call last)",
      "\u001b[1;32m<ipython-input-24-0106664d39e8>\u001b[0m in \u001b[0;36m<module>\u001b[1;34m\u001b[0m\n\u001b[1;32m----> 1\u001b[1;33m \u001b[1;36m5\u001b[0m\u001b[1;33m/\u001b[0m\u001b[1;36m0\u001b[0m\u001b[1;33m\u001b[0m\u001b[1;33m\u001b[0m\u001b[0m\n\u001b[0m",
      "\u001b[1;31mZeroDivisionError\u001b[0m: division by zero"
     ]
    }
   ],
   "source": [
    "5/0"
   ]
  },
  {
   "cell_type": "code",
   "execution_count": 26,
   "metadata": {},
   "outputs": [
    {
     "name": "stdout",
     "output_type": "stream",
     "text": [
      "enter first number5\n",
      "enter second number0\n",
      " a value can not be divided by zero instead of 0 please provide some positive number\n"
     ]
    }
   ],
   "source": [
    "try:\n",
    "    a = int(input('enter first number'))\n",
    "    b = int (input('enter second number'))\n",
    "    c = a+b\n",
    "    d = a-b\n",
    "    e = a/b\n",
    "    print(c)\n",
    "    print(d)\n",
    "    print(e)\n",
    "    \n",
    "except NameError:\n",
    "    print(\"Please define the variable and then try to execute the code\")\n",
    "except TypeError:\n",
    "    print(\"string and int can not be concatenated Please try to add int and int or string and string\")\n",
    "except ZeroDivisionError:\n",
    "    print( ' a value can not be divided by zero instead of 0 please provide some positive number')\n",
    "except Exception as ex:\n",
    "    print(ex)"
   ]
  },
  {
   "cell_type": "code",
   "execution_count": 27,
   "metadata": {},
   "outputs": [
    {
     "name": "stdout",
     "output_type": "stream",
     "text": [
      "enter first number10\n",
      "enter second number5\n",
      "15\n",
      "5\n",
      "2.0\n"
     ]
    }
   ],
   "source": [
    "try:\n",
    "    a = int(input('enter first number'))\n",
    "    b = int (input('enter second number'))\n",
    "    c = a+b\n",
    "    d = a-b\n",
    "    e = a/b\n",
    "    print(c)\n",
    "    print(d)\n",
    "    print(e)\n",
    "    \n",
    "except NameError:\n",
    "    print(\"Please define the variable and then try to execute the code\")\n",
    "except TypeError:\n",
    "    print(\"string and int can not be concatenated Please try to add int and int or string and string\")\n",
    "except ZeroDivisionError:\n",
    "    print( ' a value can not be divided by zero instead of 0 please provide some positive number')\n",
    "except Exception as ex:\n",
    "    print(ex)"
   ]
  },
  {
   "cell_type": "code",
   "execution_count": 28,
   "metadata": {},
   "outputs": [],
   "source": [
    "# we can also use else block"
   ]
  },
  {
   "cell_type": "code",
   "execution_count": 29,
   "metadata": {},
   "outputs": [
    {
     "name": "stdout",
     "output_type": "stream",
     "text": [
      "enter first number30\n",
      "enter second number0\n",
      " a value can not be divided by zero instead of 0 please provide some positive number\n"
     ]
    }
   ],
   "source": [
    "try:\n",
    "    a = int(input('enter first number'))\n",
    "    b = int (input('enter second number'))\n",
    "    c = a+b\n",
    "    d = a-b\n",
    "    e = a/b\n",
    "    \n",
    "    \n",
    "except NameError:\n",
    "    print(\"Please define the variable and then try to execute the code\")\n",
    "except TypeError:\n",
    "    print(\"string and int can not be concatenated Please try to add int and int or string and string\")\n",
    "except ZeroDivisionError:\n",
    "    print( ' a value can not be divided by zero instead of 0 please provide some positive number')\n",
    "except Exception as ex:\n",
    "    print(ex)\n",
    "    \n",
    "else:\n",
    "    print(c)\n",
    "    print(d)\n",
    "    print(e)"
   ]
  },
  {
   "cell_type": "code",
   "execution_count": 31,
   "metadata": {},
   "outputs": [
    {
     "name": "stdout",
     "output_type": "stream",
     "text": [
      "enter first number30\n",
      "enter second number15\n",
      "45\n",
      "15\n",
      "2.0\n"
     ]
    }
   ],
   "source": [
    "# try else\n",
    "try:\n",
    "    a = int(input('enter first number'))\n",
    "    b = int (input('enter second number'))\n",
    "    c = a+b\n",
    "    d = a-b\n",
    "    e = a/b\n",
    "    \n",
    "    \n",
    "except NameError:\n",
    "    print(\"Please define the variable and then try to execute the code\")\n",
    "except TypeError:\n",
    "    print(\"string and int can not be concatenated Please try to add int and int or string and string\")\n",
    "except ZeroDivisionError:\n",
    "    print( ' a value can not be divided by zero instead of 0 please provide some positive number')\n",
    "except Exception as ex:\n",
    "    print(ex)\n",
    "    \n",
    "else:\n",
    "    print(c)\n",
    "    print(d)\n",
    "    print(e)"
   ]
  },
  {
   "cell_type": "code",
   "execution_count": 32,
   "metadata": {},
   "outputs": [],
   "source": [
    "# try else finally"
   ]
  },
  {
   "cell_type": "code",
   "execution_count": 34,
   "metadata": {},
   "outputs": [
    {
     "name": "stdout",
     "output_type": "stream",
     "text": [
      "enter first number30\n",
      "enter second number2\n",
      "45\n",
      "execution is done\n"
     ]
    }
   ],
   "source": [
    "try:\n",
    "    a = int(input('enter first number'))\n",
    "    b = int (input('enter second number'))\n",
    "    \n",
    "    e = a/b\n",
    "    \n",
    "    \n",
    "except NameError:\n",
    "    print(\"Please define the variable and then try to execute the code\")\n",
    "except TypeError:\n",
    "    print(\"string and int can not be concatenated Please try to add int and int or string and string\")\n",
    "except ZeroDivisionError:\n",
    "    print( ' a value can not be divided by zero instead of 0 please provide some positive number')\n",
    "except Exception as ex:\n",
    "    print(ex)\n",
    "    \n",
    "else:\n",
    "    print(c)\n",
    "finally:\n",
    "    print('execution is done')"
   ]
  },
  {
   "cell_type": "code",
   "execution_count": 35,
   "metadata": {},
   "outputs": [
    {
     "name": "stdout",
     "output_type": "stream",
     "text": [
      "enter first number30\n",
      "enter second number0\n",
      " a value can not be divided by zero instead of 0 please provide some positive number\n",
      "execution is done\n"
     ]
    }
   ],
   "source": [
    "try:\n",
    "    a = int(input('enter first number'))\n",
    "    b = int (input('enter second number'))\n",
    "    \n",
    "    e = a/b\n",
    "    \n",
    "    \n",
    "except NameError:\n",
    "    print(\"Please define the variable and then try to execute the code\")\n",
    "except TypeError:\n",
    "    print(\"string and int can not be concatenated Please try to add int and int or string and string\")\n",
    "except ZeroDivisionError:\n",
    "    print( ' a value can not be divided by zero instead of 0 please provide some positive number')\n",
    "except Exception as ex:\n",
    "    print(ex)\n",
    "    \n",
    "else:\n",
    "    print(c)\n",
    "finally:\n",
    "    print('execution is done')"
   ]
  },
  {
   "cell_type": "code",
   "execution_count": null,
   "metadata": {},
   "outputs": [],
   "source": []
  }
 ],
 "metadata": {
  "kernelspec": {
   "display_name": "Python 3",
   "language": "python",
   "name": "python3"
  },
  "language_info": {
   "codemirror_mode": {
    "name": "ipython",
    "version": 3
   },
   "file_extension": ".py",
   "mimetype": "text/x-python",
   "name": "python",
   "nbconvert_exporter": "python",
   "pygments_lexer": "ipython3",
   "version": "3.7.4"
  }
 },
 "nbformat": 4,
 "nbformat_minor": 2
}
