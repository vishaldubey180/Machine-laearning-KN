{
 "cells": [
  {
   "cell_type": "markdown",
   "metadata": {},
   "source": [
    "# Seaborn"
   ]
  },
  {
   "cell_type": "markdown",
   "metadata": {},
   "source": [
    "## Distribution plots\n",
    "\n",
    "- distplot\n",
    "- joinplot # work with bivariate analysi\n",
    "- pairplot # work with multivaraiate analysis\n",
    "\n",
    "Practise problem on IRIS Dataset"
   ]
  },
  {
   "cell_type": "code",
   "execution_count": 1,
   "metadata": {},
   "outputs": [],
   "source": [
    "# when we get dataset to solve a ml problem\n",
    "# we have features in dataset f1,f2,f3,f4..\n",
    "# we divide our dataset intod ependent and independentfetaures\n",
    "# let' say we have 2 feature f1,f2 for that we can draw 2D graph and we can observe how features are beaving\n",
    "# if we have 3 features f1,f2,f3 then we have to draw 3d digram\n",
    "# # and as we increase our feature we have to draw high dimension digram which is difficult\n",
    "\n",
    "# if we are working on one  feature f1   - Univraiate analysis\n",
    "# if we are working tw  feature f1, f2    - bivraiate analysis\n",
    "# we can easily work with one feature and two feature and draw digrams with seaborn"
   ]
  },
  {
   "cell_type": "code",
   "execution_count": 2,
   "metadata": {},
   "outputs": [],
   "source": [
    "# if we are working with multiple features - multivariate analysis\n",
    "# seaborn help's us to visualize multiple features"
   ]
  },
  {
   "cell_type": "code",
   "execution_count": null,
   "metadata": {},
   "outputs": [],
   "source": [
    "import seaborn as sns"
   ]
  },
  {
   "cell_type": "code",
   "execution_count": null,
   "metadata": {},
   "outputs": [],
   "source": []
  }
 ],
 "metadata": {
  "kernelspec": {
   "display_name": "Python 3",
   "language": "python",
   "name": "python3"
  },
  "language_info": {
   "codemirror_mode": {
    "name": "ipython",
    "version": 3
   },
   "file_extension": ".py",
   "mimetype": "text/x-python",
   "name": "python",
   "nbconvert_exporter": "python",
   "pygments_lexer": "ipython3",
   "version": "3.7.4"
  }
 },
 "nbformat": 4,
 "nbformat_minor": 2
}
