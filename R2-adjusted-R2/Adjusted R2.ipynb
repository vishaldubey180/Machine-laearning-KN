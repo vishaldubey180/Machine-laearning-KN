{
 "cells": [
  {
   "cell_type": "code",
   "execution_count": 1,
   "metadata": {},
   "outputs": [],
   "source": [
    "## Requried Python Packages\n",
    "import pandas as pd\n",
    "import numpy as np"
   ]
  },
  {
   "cell_type": "code",
   "execution_count": 2,
   "metadata": {},
   "outputs": [],
   "source": [
    "data = pd.read_csv('sales.csv')"
   ]
  },
  {
   "cell_type": "code",
   "execution_count": 3,
   "metadata": {},
   "outputs": [
    {
     "data": {
      "text/html": [
       "<div>\n",
       "<style scoped>\n",
       "    .dataframe tbody tr th:only-of-type {\n",
       "        vertical-align: middle;\n",
       "    }\n",
       "\n",
       "    .dataframe tbody tr th {\n",
       "        vertical-align: top;\n",
       "    }\n",
       "\n",
       "    .dataframe thead th {\n",
       "        text-align: right;\n",
       "    }\n",
       "</style>\n",
       "<table border=\"1\" class=\"dataframe\">\n",
       "  <thead>\n",
       "    <tr style=\"text-align: right;\">\n",
       "      <th></th>\n",
       "      <th>email_campaign_spend</th>\n",
       "      <th>google_adwords_spend</th>\n",
       "      <th>season</th>\n",
       "      <th>sales</th>\n",
       "      <th>dummy_forecasted_sales</th>\n",
       "    </tr>\n",
       "  </thead>\n",
       "  <tbody>\n",
       "    <tr>\n",
       "      <td>0</td>\n",
       "      <td>2</td>\n",
       "      <td>9</td>\n",
       "      <td>1</td>\n",
       "      <td>12</td>\n",
       "      <td>23</td>\n",
       "    </tr>\n",
       "    <tr>\n",
       "      <td>1</td>\n",
       "      <td>3</td>\n",
       "      <td>8</td>\n",
       "      <td>2</td>\n",
       "      <td>24</td>\n",
       "      <td>20</td>\n",
       "    </tr>\n",
       "    <tr>\n",
       "      <td>2</td>\n",
       "      <td>4</td>\n",
       "      <td>4</td>\n",
       "      <td>1</td>\n",
       "      <td>34</td>\n",
       "      <td>32</td>\n",
       "    </tr>\n",
       "    <tr>\n",
       "      <td>3</td>\n",
       "      <td>1</td>\n",
       "      <td>3</td>\n",
       "      <td>3</td>\n",
       "      <td>12</td>\n",
       "      <td>16</td>\n",
       "    </tr>\n",
       "    <tr>\n",
       "      <td>4</td>\n",
       "      <td>6</td>\n",
       "      <td>1</td>\n",
       "      <td>2</td>\n",
       "      <td>34</td>\n",
       "      <td>32</td>\n",
       "    </tr>\n",
       "    <tr>\n",
       "      <td>5</td>\n",
       "      <td>4</td>\n",
       "      <td>5</td>\n",
       "      <td>1</td>\n",
       "      <td>23</td>\n",
       "      <td>22</td>\n",
       "    </tr>\n",
       "    <tr>\n",
       "      <td>6</td>\n",
       "      <td>8</td>\n",
       "      <td>6</td>\n",
       "      <td>3</td>\n",
       "      <td>34</td>\n",
       "      <td>35</td>\n",
       "    </tr>\n",
       "    <tr>\n",
       "      <td>7</td>\n",
       "      <td>10</td>\n",
       "      <td>4</td>\n",
       "      <td>2</td>\n",
       "      <td>13</td>\n",
       "      <td>16</td>\n",
       "    </tr>\n",
       "    <tr>\n",
       "      <td>8</td>\n",
       "      <td>20</td>\n",
       "      <td>2</td>\n",
       "      <td>1</td>\n",
       "      <td>34</td>\n",
       "      <td>35</td>\n",
       "    </tr>\n",
       "    <tr>\n",
       "      <td>9</td>\n",
       "      <td>12</td>\n",
       "      <td>8</td>\n",
       "      <td>1</td>\n",
       "      <td>56</td>\n",
       "      <td>52</td>\n",
       "    </tr>\n",
       "  </tbody>\n",
       "</table>\n",
       "</div>"
      ],
      "text/plain": [
       "   email_campaign_spend  google_adwords_spend  season  sales  \\\n",
       "0                     2                     9       1     12   \n",
       "1                     3                     8       2     24   \n",
       "2                     4                     4       1     34   \n",
       "3                     1                     3       3     12   \n",
       "4                     6                     1       2     34   \n",
       "5                     4                     5       1     23   \n",
       "6                     8                     6       3     34   \n",
       "7                    10                     4       2     13   \n",
       "8                    20                     2       1     34   \n",
       "9                    12                     8       1     56   \n",
       "\n",
       "   dummy_forecasted_sales  \n",
       "0                      23  \n",
       "1                      20  \n",
       "2                      32  \n",
       "3                      16  \n",
       "4                      32  \n",
       "5                      22  \n",
       "6                      35  \n",
       "7                      16  \n",
       "8                      35  \n",
       "9                      52  "
      ]
     },
     "execution_count": 3,
     "metadata": {},
     "output_type": "execute_result"
    }
   ],
   "source": [
    "data"
   ]
  },
  {
   "cell_type": "code",
   "execution_count": 4,
   "metadata": {},
   "outputs": [],
   "source": [
    "## Residual sum of squares\n",
    "def rss_value(actuals, forecasted):\n",
    "\n",
    "    residuals = actuals - forecasted\n",
    "    ## Squared each residual\n",
    "    squared_residuals = [np.power(residual, 2) for residual in residuals]\n",
    "    rss = sum(squared_residuals)\n",
    "    return rss"
   ]
  },
  {
   "cell_type": "code",
   "execution_count": 5,
   "metadata": {},
   "outputs": [],
   "source": [
    "## Total sum of square\n",
    "def tss_value(actuals):\n",
    "\n",
    "    ## Calcuate mean\n",
    "    actual_mean = actuals.mean()\n",
    "    ## Squared mean difference value\n",
    "    mean_difference_squared = [np.power(\n",
    "    (actual - actual_mean), 2) for actual in actuals]\n",
    "    tss = sum(mean_difference_squared)\n",
    "    return tss"
   ]
  },
  {
   "cell_type": "code",
   "execution_count": 6,
   "metadata": {},
   "outputs": [],
   "source": [
    "## R-squared value\n",
    "def get_r_squared_value(actuals, forecasted):\n",
    "\n",
    "    rss = rss_value(actuals, forecasted)\n",
    "    tss = tss_value(actuals)\n",
    "    ## Calculating R-squared value\n",
    "    r_squared_value = 1 - (rss/float(tss))\n",
    "    return round(r_squared_value, 2)"
   ]
  },
  {
   "cell_type": "code",
   "execution_count": 7,
   "metadata": {},
   "outputs": [],
   "source": [
    "## Adjusted R-squared value\n",
    "\n",
    "def get_adjusted_r_squared_value(actuals, forecasted, features_size):\n",
    "\n",
    "    observations_size = len(actuals)\n",
    "    ## Get the r squared value\n",
    "    r_squared_value = get_r_squared_value(actuals, forecasted)\n",
    "    numerator = (1 - r_squared_value) * (observations_size - 1)\n",
    "    denominator = observations_size - features_size - 1\n",
    "\n",
    "    return 1 - numerator/float(denominator)"
   ]
  },
  {
   "cell_type": "code",
   "execution_count": 10,
   "metadata": {},
   "outputs": [],
   "source": [
    "def main():\n",
    "\n",
    "    ## Load dataset\n",
    "    data = pd.read_csv('sales.csv')\n",
    "    # print(data.head())\n",
    "\n",
    "    ## Calculating residual squared value\n",
    "    rss = rss_value(data[\"sales\"], data[\"dummy_forecasted_sales\"])\n",
    "    print(\"Calculated residual sum of squares :: {}\".format(rss))\n",
    "\n",
    "    ## Calculating total squared value\n",
    "    tss = tss_value(data[\"sales\"])\n",
    "    print(\"Calculated total sum of squares value :: {}\".format(tss))\n",
    "\n",
    "    ## Calculating R-Squared value\n",
    "    r_squared_value = get_r_squared_value(data[\"sales\"],\n",
    "    data[\"dummy_forecasted_sales\"])\n",
    "    print(\"Calculated R Squared Value :: {}\".format(r_squared_value))\n",
    "\n",
    "    ## Calculating Adjusted R-Squared value\n",
    "    features_size = 3\n",
    "    adjusted_r_squared_value = get_adjusted_r_squared_value(data[\"sales\"],\n",
    "    data[\"dummy_forecasted_sales\"], features_size)\n",
    "    print(\"Calculated Adjusted R Squared Value :: {}\".format(\n",
    "    adjusted_r_squared_value))"
   ]
  },
  {
   "cell_type": "code",
   "execution_count": 11,
   "metadata": {},
   "outputs": [
    {
     "name": "stdout",
     "output_type": "stream",
     "text": [
      "Calculated residual sum of squares :: 189\n",
      "Calculated total sum of squares value :: 1704.4\n",
      "Calculated R Squared Value :: 0.89\n",
      "Calculated Adjusted R Squared Value :: 0.835\n"
     ]
    }
   ],
   "source": [
    "\n",
    "if __name__ == \"__main__\":\n",
    "    main()"
   ]
  },
  {
   "cell_type": "code",
   "execution_count": null,
   "metadata": {},
   "outputs": [],
   "source": []
  }
 ],
 "metadata": {
  "kernelspec": {
   "display_name": "Python 3",
   "language": "python",
   "name": "python3"
  },
  "language_info": {
   "codemirror_mode": {
    "name": "ipython",
    "version": 3
   },
   "file_extension": ".py",
   "mimetype": "text/x-python",
   "name": "python",
   "nbconvert_exporter": "python",
   "pygments_lexer": "ipython3",
   "version": "3.7.4"
  }
 },
 "nbformat": 4,
 "nbformat_minor": 2
}
