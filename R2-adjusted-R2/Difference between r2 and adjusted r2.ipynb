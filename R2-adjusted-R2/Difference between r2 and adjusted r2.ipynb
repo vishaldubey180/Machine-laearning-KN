{
 "cells": [
  {
   "cell_type": "code",
   "execution_count": 1,
   "metadata": {},
   "outputs": [],
   "source": [
    "## Different between r2 and adjusted r2"
   ]
  },
  {
   "cell_type": "markdown",
   "metadata": {},
   "source": [
    "To address the limitations of r-squared we are considering the below data. Which has the same sales data, where we remove the dummy_forecast_value. We will be using different combinations of features to build the regression models and to see the behaviour over r-squared vs adjusted r-squared."
   ]
  },
  {
   "cell_type": "markdown",
   "metadata": {},
   "source": [
    "We are having 3 features.\n",
    "\n",
    "- email campaign spend\n",
    "\n",
    "- google adwords spend\n",
    "\n",
    "- season\n",
    "\n",
    "The target is sales values. We are going to build 3 models with the below features combinations.\n",
    "\n",
    "- Model 01:\n",
    "   - Features: email campaign spend, google adwords spend \n",
    "   - Target: sales\n",
    "- Model 02:\n",
    "   - Features: google adwords spend, season \n",
    "   - Target: sales\n",
    "- Model 03:\n",
    "  -  Features: email campaign, google adwords, season \n",
    "  -  Target: sales"
   ]
  },
  {
   "cell_type": "markdown",
   "metadata": {},
   "source": [
    "# Calculate R-Squared and Adjusted R-Squared In Python\n",
    "\n",
    "We are going to implement 3 functions: model1 , model2, model3. For each model we will compute the both the r-squared and adjusted r-squared value."
   ]
  },
  {
   "cell_type": "code",
   "execution_count": 2,
   "metadata": {},
   "outputs": [],
   "source": [
    "## Requried Python Packages\n",
    "import pandas as pd\n",
    "import numpy as np\n",
    "from sklearn.linear_model import LinearRegression"
   ]
  },
  {
   "cell_type": "code",
   "execution_count": 3,
   "metadata": {},
   "outputs": [],
   "source": [
    "data_path = pd.read_csv('sales.csv')"
   ]
  },
  {
   "cell_type": "code",
   "execution_count": 12,
   "metadata": {},
   "outputs": [
    {
     "data": {
      "text/html": [
       "<div>\n",
       "<style scoped>\n",
       "    .dataframe tbody tr th:only-of-type {\n",
       "        vertical-align: middle;\n",
       "    }\n",
       "\n",
       "    .dataframe tbody tr th {\n",
       "        vertical-align: top;\n",
       "    }\n",
       "\n",
       "    .dataframe thead th {\n",
       "        text-align: right;\n",
       "    }\n",
       "</style>\n",
       "<table border=\"1\" class=\"dataframe\">\n",
       "  <thead>\n",
       "    <tr style=\"text-align: right;\">\n",
       "      <th></th>\n",
       "      <th>email_campaign_spend</th>\n",
       "      <th>google_adwords_spend</th>\n",
       "      <th>season</th>\n",
       "      <th>sales</th>\n",
       "      <th>dummy_forecasted_sales</th>\n",
       "    </tr>\n",
       "  </thead>\n",
       "  <tbody>\n",
       "    <tr>\n",
       "      <td>0</td>\n",
       "      <td>2</td>\n",
       "      <td>9</td>\n",
       "      <td>1</td>\n",
       "      <td>12</td>\n",
       "      <td>23</td>\n",
       "    </tr>\n",
       "    <tr>\n",
       "      <td>1</td>\n",
       "      <td>3</td>\n",
       "      <td>8</td>\n",
       "      <td>2</td>\n",
       "      <td>24</td>\n",
       "      <td>20</td>\n",
       "    </tr>\n",
       "    <tr>\n",
       "      <td>2</td>\n",
       "      <td>4</td>\n",
       "      <td>4</td>\n",
       "      <td>1</td>\n",
       "      <td>34</td>\n",
       "      <td>32</td>\n",
       "    </tr>\n",
       "    <tr>\n",
       "      <td>3</td>\n",
       "      <td>1</td>\n",
       "      <td>3</td>\n",
       "      <td>3</td>\n",
       "      <td>12</td>\n",
       "      <td>16</td>\n",
       "    </tr>\n",
       "    <tr>\n",
       "      <td>4</td>\n",
       "      <td>6</td>\n",
       "      <td>1</td>\n",
       "      <td>2</td>\n",
       "      <td>34</td>\n",
       "      <td>32</td>\n",
       "    </tr>\n",
       "    <tr>\n",
       "      <td>5</td>\n",
       "      <td>4</td>\n",
       "      <td>5</td>\n",
       "      <td>1</td>\n",
       "      <td>23</td>\n",
       "      <td>22</td>\n",
       "    </tr>\n",
       "    <tr>\n",
       "      <td>6</td>\n",
       "      <td>8</td>\n",
       "      <td>6</td>\n",
       "      <td>3</td>\n",
       "      <td>34</td>\n",
       "      <td>35</td>\n",
       "    </tr>\n",
       "    <tr>\n",
       "      <td>7</td>\n",
       "      <td>10</td>\n",
       "      <td>4</td>\n",
       "      <td>2</td>\n",
       "      <td>13</td>\n",
       "      <td>16</td>\n",
       "    </tr>\n",
       "    <tr>\n",
       "      <td>8</td>\n",
       "      <td>20</td>\n",
       "      <td>2</td>\n",
       "      <td>1</td>\n",
       "      <td>34</td>\n",
       "      <td>35</td>\n",
       "    </tr>\n",
       "    <tr>\n",
       "      <td>9</td>\n",
       "      <td>12</td>\n",
       "      <td>8</td>\n",
       "      <td>1</td>\n",
       "      <td>56</td>\n",
       "      <td>52</td>\n",
       "    </tr>\n",
       "  </tbody>\n",
       "</table>\n",
       "</div>"
      ],
      "text/plain": [
       "   email_campaign_spend  google_adwords_spend  season  sales  \\\n",
       "0                     2                     9       1     12   \n",
       "1                     3                     8       2     24   \n",
       "2                     4                     4       1     34   \n",
       "3                     1                     3       3     12   \n",
       "4                     6                     1       2     34   \n",
       "5                     4                     5       1     23   \n",
       "6                     8                     6       3     34   \n",
       "7                    10                     4       2     13   \n",
       "8                    20                     2       1     34   \n",
       "9                    12                     8       1     56   \n",
       "\n",
       "   dummy_forecasted_sales  \n",
       "0                      23  \n",
       "1                      20  \n",
       "2                      32  \n",
       "3                      16  \n",
       "4                      32  \n",
       "5                      22  \n",
       "6                      35  \n",
       "7                      16  \n",
       "8                      35  \n",
       "9                      52  "
      ]
     },
     "execution_count": 12,
     "metadata": {},
     "output_type": "execute_result"
    }
   ],
   "source": [
    "data_path"
   ]
  },
  {
   "cell_type": "code",
   "execution_count": 13,
   "metadata": {},
   "outputs": [],
   "source": [
    "data_path.drop('dummy_forecasted_sales', axis=1, inplace=True)"
   ]
  },
  {
   "cell_type": "code",
   "execution_count": 4,
   "metadata": {},
   "outputs": [],
   "source": [
    "## Residual sum of squares\n",
    "def rss_value(actuals, forecasted):\n",
    "\n",
    "    residuals = actuals - forecasted\n",
    "    ## Squared each residual\n",
    "    squared_residuals = [np.power(residual, 2) for residual in residuals]\n",
    "    rss = sum(squared_residuals)\n",
    "    return rss"
   ]
  },
  {
   "cell_type": "code",
   "execution_count": 5,
   "metadata": {},
   "outputs": [],
   "source": [
    "## Total sum of square\n",
    "def tss_value(actuals):\n",
    "\n",
    "    ## Calcuate mean\n",
    "    actual_mean = actuals.mean()\n",
    "    ## Squared mean difference value\n",
    "    mean_difference_squared = [np.power(\n",
    "    (actual - actual_mean), 2) for actual in actuals]\n",
    "    tss = sum(mean_difference_squared)\n",
    "    return tss"
   ]
  },
  {
   "cell_type": "code",
   "execution_count": 6,
   "metadata": {},
   "outputs": [],
   "source": [
    "## R-squared value\n",
    "def get_r_squared_value(actuals, forecasted):\n",
    "\n",
    "    rss = rss_value(actuals, forecasted)\n",
    "    tss = tss_value(actuals)\n",
    "    ## Calculating R-squared value\n",
    "    r_squared_value = 1 - (rss/float(tss))\n",
    "    return round(r_squared_value, 2)"
   ]
  },
  {
   "cell_type": "code",
   "execution_count": 7,
   "metadata": {},
   "outputs": [],
   "source": [
    "\n",
    "## Adjusted R-squared value\n",
    "def get_adjusted_r_squared_value(actuals, forecasted, features_size, flag=0):\n",
    "\n",
    "    observations_size = len(actuals)\n",
    "    ## Get the r squared value\n",
    "    r_squared_value = get_r_squared_value(actuals, forecasted)\n",
    "    numerator = (1 - r_squared_value) * (observations_size - 1)\n",
    "    denominator = observations_size - features_size - 1\n",
    "    adjusted_r_squared_value = round(1 - numerator/float(denominator), 2)\n",
    "\n",
    "    if flag:\n",
    "        return r_squared_value, adjusted_r_squared_value\n",
    "    else:\n",
    "        return adjusted_r_squared_value"
   ]
  },
  {
   "cell_type": "code",
   "execution_count": 8,
   "metadata": {},
   "outputs": [],
   "source": [
    "## Template for modeling regression algorithm\n",
    "def regression_model(data, features, target):\n",
    "\n",
    "    regresser = LinearRegression().fit(data[features], data[target])\n",
    "    return regresser"
   ]
  },
  {
   "cell_type": "code",
   "execution_count": 20,
   "metadata": {},
   "outputs": [],
   "source": [
    "\n",
    "\n",
    "def main():\n",
    "\n",
    "    ## Load dataset\n",
    "    data = data_path\n",
    "\n",
    "    ## Creating features set\n",
    "    features_set_1 = ['email_campaign_spend', 'google_adwords_spend']\n",
    "    features_set_2 = ['google_adwords_spend', 'season']\n",
    "    features_set_3 = ['email_campaign_spend', 'google_adwords_spend', 'season']\n",
    "    target = 'sales'\n",
    "\n",
    "    ## Building 3 models\n",
    "    model_1 = regression_model(data, features_set_1, target)\n",
    "    model_2 = regression_model(data, features_set_2, target)\n",
    "    model_3 = regression_model(data, features_set_3, target)\n",
    "\n",
    "    ## Prediction for the 3 models\n",
    "    predictions_1 = model_1.predict(data[features_set_1])\n",
    "    predictions_2 = model_2.predict(data[features_set_2])\n",
    "    predictions_3 = model_3.predict(data[features_set_3])\n",
    "\n",
    "    ## Capturing each model r-squared and adjsuted r-squared value\n",
    "    r_sq_1, ad_r_sq_1 = get_adjusted_r_squared_value(\n",
    "    data[target], predictions_1, len(features_set_1), flag=1)\n",
    "\n",
    "    r_sq_2, ad_r_sq_2 = get_adjusted_r_squared_value(\n",
    "    data[target], predictions_2, len(features_set_2), flag=1)\n",
    "\n",
    "    r_sq_3, ad_r_sq_3 = get_adjusted_r_squared_value(\n",
    "    data[target], predictions_3, len(features_set_3), flag=1)\n",
    "\n",
    "    print(\"****************Model 01****************\")\n",
    "    print(\"\\n R-Squared Value: {}, Adjusted R-Squared Value: {}\".format(\n",
    "    r_sq_1, ad_r_sq_1))\n",
    "\n",
    "    print(\"\\n****************Model 02****************\")\n",
    "    print(\"\\n R-Squared Value: {}, Adjusted R-Squared Value: {}\".format(\n",
    "    r_sq_2, ad_r_sq_2))\n",
    "\n",
    "    print(\"\\n****************Model 03****************\")\n",
    "    print(\"\\n R-Squared Value: {}, Adjusted R-Squared Value: {}\".format(\n",
    "    r_sq_3, ad_r_sq_3))"
   ]
  },
  {
   "cell_type": "code",
   "execution_count": 21,
   "metadata": {},
   "outputs": [
    {
     "name": "stdout",
     "output_type": "stream",
     "text": [
      "****************Model 01****************\n",
      "\n",
      " R-Squared Value: 0.29, Adjusted R-Squared Value: 0.09\n",
      "\n",
      "****************Model 02****************\n",
      "\n",
      " R-Squared Value: 0.09, Adjusted R-Squared Value: -0.17\n",
      "\n",
      "****************Model 03****************\n",
      "\n",
      " R-Squared Value: 0.3, Adjusted R-Squared Value: -0.05\n"
     ]
    }
   ],
   "source": [
    "if __name__ == \"__main__\":\n",
    "    main()"
   ]
  },
  {
   "cell_type": "code",
   "execution_count": null,
   "metadata": {},
   "outputs": [],
   "source": []
  },
  {
   "cell_type": "code",
   "execution_count": null,
   "metadata": {},
   "outputs": [],
   "source": []
  }
 ],
 "metadata": {
  "kernelspec": {
   "display_name": "Python 3",
   "language": "python",
   "name": "python3"
  },
  "language_info": {
   "codemirror_mode": {
    "name": "ipython",
    "version": 3
   },
   "file_extension": ".py",
   "mimetype": "text/x-python",
   "name": "python",
   "nbconvert_exporter": "python",
   "pygments_lexer": "ipython3",
   "version": "3.7.4"
  }
 },
 "nbformat": 4,
 "nbformat_minor": 2
}
